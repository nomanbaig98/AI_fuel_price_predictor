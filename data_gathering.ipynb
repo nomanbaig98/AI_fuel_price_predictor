{
 "cells": [
  {
   "cell_type": "code",
   "execution_count": 2,
   "id": "c2263cd6",
   "metadata": {},
   "outputs": [],
   "source": [
    "import numpy as np \n",
    "import pandas as pd\n",
    "import matplotlib.pyplot as plt\n",
    "import seaborn as sns\n",
    "%matplotlib inline"
   ]
  },
  {
   "cell_type": "code",
   "execution_count": 47,
   "id": "3072817f",
   "metadata": {},
   "outputs": [],
   "source": [
    "df = pd.read_csv('train_petrol.csv')"
   ]
  },
  {
   "cell_type": "code",
   "execution_count": 48,
   "id": "295182a0",
   "metadata": {},
   "outputs": [
    {
     "data": {
      "text/html": [
       "<div>\n",
       "<style scoped>\n",
       "    .dataframe tbody tr th:only-of-type {\n",
       "        vertical-align: middle;\n",
       "    }\n",
       "\n",
       "    .dataframe tbody tr th {\n",
       "        vertical-align: top;\n",
       "    }\n",
       "\n",
       "    .dataframe thead th {\n",
       "        text-align: right;\n",
       "    }\n",
       "</style>\n",
       "<table border=\"1\" class=\"dataframe\">\n",
       "  <thead>\n",
       "    <tr style=\"text-align: right;\">\n",
       "      <th></th>\n",
       "      <th>PETROL (GHp/Lt)</th>\n",
       "      <th>DIESEL (GHp/Lt)</th>\n",
       "      <th>LPG (GHp/Kg)</th>\n",
       "      <th>KEROSENE (GHp/Lt)</th>\n",
       "      <th>MGO LOCAL (GHp/Lt)</th>\n",
       "    </tr>\n",
       "  </thead>\n",
       "  <tbody>\n",
       "    <tr>\n",
       "      <th>0</th>\n",
       "      <td>453.30</td>\n",
       "      <td>497.50</td>\n",
       "      <td>470.03</td>\n",
       "      <td>401.96</td>\n",
       "      <td>403.75</td>\n",
       "    </tr>\n",
       "    <tr>\n",
       "      <th>1</th>\n",
       "      <td>481.86</td>\n",
       "      <td>492.21</td>\n",
       "      <td>0.00</td>\n",
       "      <td>0.00</td>\n",
       "      <td>0.00</td>\n",
       "    </tr>\n",
       "    <tr>\n",
       "      <th>2</th>\n",
       "      <td>0.00</td>\n",
       "      <td>0.00</td>\n",
       "      <td>490.44</td>\n",
       "      <td>0.00</td>\n",
       "      <td>0.00</td>\n",
       "    </tr>\n",
       "    <tr>\n",
       "      <th>3</th>\n",
       "      <td>0.00</td>\n",
       "      <td>0.00</td>\n",
       "      <td>503.04</td>\n",
       "      <td>0.00</td>\n",
       "      <td>0.00</td>\n",
       "    </tr>\n",
       "    <tr>\n",
       "      <th>4</th>\n",
       "      <td>0.00</td>\n",
       "      <td>0.00</td>\n",
       "      <td>513.88</td>\n",
       "      <td>0.00</td>\n",
       "      <td>0.00</td>\n",
       "    </tr>\n",
       "  </tbody>\n",
       "</table>\n",
       "</div>"
      ],
      "text/plain": [
       "   PETROL (GHp/Lt)  DIESEL (GHp/Lt)  LPG (GHp/Kg)  KEROSENE (GHp/Lt)  \\\n",
       "0           453.30           497.50        470.03             401.96   \n",
       "1           481.86           492.21          0.00               0.00   \n",
       "2             0.00             0.00        490.44               0.00   \n",
       "3             0.00             0.00        503.04               0.00   \n",
       "4             0.00             0.00        513.88               0.00   \n",
       "\n",
       "   MGO LOCAL (GHp/Lt)  \n",
       "0              403.75  \n",
       "1                0.00  \n",
       "2                0.00  \n",
       "3                0.00  \n",
       "4                0.00  "
      ]
     },
     "execution_count": 48,
     "metadata": {},
     "output_type": "execute_result"
    }
   ],
   "source": [
    "df.head()"
   ]
  },
  {
   "cell_type": "code",
   "execution_count": 49,
   "id": "1e153b77",
   "metadata": {},
   "outputs": [
    {
     "name": "stdout",
     "output_type": "stream",
     "text": [
      "<class 'pandas.core.frame.DataFrame'>\n",
      "RangeIndex: 8584 entries, 0 to 8583\n",
      "Data columns (total 5 columns):\n",
      " #   Column              Non-Null Count  Dtype  \n",
      "---  ------              --------------  -----  \n",
      " 0   PETROL (GHp/Lt)     8582 non-null   float64\n",
      " 1   DIESEL (GHp/Lt)     8582 non-null   float64\n",
      " 2   LPG (GHp/Kg)        8582 non-null   float64\n",
      " 3   KEROSENE (GHp/Lt)   8579 non-null   float64\n",
      " 4   MGO LOCAL (GHp/Lt)  8578 non-null   float64\n",
      "dtypes: float64(5)\n",
      "memory usage: 335.4 KB\n"
     ]
    }
   ],
   "source": [
    "df.info()"
   ]
  },
  {
   "cell_type": "code",
   "execution_count": 50,
   "id": "10c87f55",
   "metadata": {},
   "outputs": [
    {
     "data": {
      "text/plain": [
       "Index(['PETROL (GHp/Lt)', 'DIESEL (GHp/Lt)', 'LPG (GHp/Kg)',\n",
       "       'KEROSENE (GHp/Lt)', 'MGO LOCAL (GHp/Lt)'],\n",
       "      dtype='object')"
      ]
     },
     "execution_count": 50,
     "metadata": {},
     "output_type": "execute_result"
    }
   ],
   "source": [
    "df.columns"
   ]
  },
  {
   "cell_type": "code",
   "execution_count": 51,
   "id": "97e30687",
   "metadata": {
    "scrolled": false
   },
   "outputs": [
    {
     "data": {
      "text/plain": [
       "PETROL (GHp/Lt)       2\n",
       "DIESEL (GHp/Lt)       2\n",
       "LPG (GHp/Kg)          2\n",
       "KEROSENE (GHp/Lt)     5\n",
       "MGO LOCAL (GHp/Lt)    6\n",
       "dtype: int64"
      ]
     },
     "execution_count": 51,
     "metadata": {},
     "output_type": "execute_result"
    }
   ],
   "source": [
    "df.isnull().sum()"
   ]
  },
  {
   "cell_type": "code",
   "execution_count": 52,
   "id": "e5de5862",
   "metadata": {},
   "outputs": [],
   "source": [
    "df = df.dropna()"
   ]
  },
  {
   "cell_type": "code",
   "execution_count": 53,
   "id": "b8abe325",
   "metadata": {
    "scrolled": true
   },
   "outputs": [
    {
     "data": {
      "text/plain": [
       "PETROL (GHp/Lt)       0\n",
       "DIESEL (GHp/Lt)       0\n",
       "LPG (GHp/Kg)          0\n",
       "KEROSENE (GHp/Lt)     0\n",
       "MGO LOCAL (GHp/Lt)    0\n",
       "dtype: int64"
      ]
     },
     "execution_count": 53,
     "metadata": {},
     "output_type": "execute_result"
    }
   ],
   "source": [
    "df.isnull().sum()"
   ]
  },
  {
   "cell_type": "code",
   "execution_count": 54,
   "id": "4bb176ff",
   "metadata": {},
   "outputs": [
    {
     "name": "stdout",
     "output_type": "stream",
     "text": [
      "<class 'pandas.core.frame.DataFrame'>\n",
      "Int64Index: 8578 entries, 0 to 8583\n",
      "Data columns (total 5 columns):\n",
      " #   Column              Non-Null Count  Dtype  \n",
      "---  ------              --------------  -----  \n",
      " 0   PETROL (GHp/Lt)     8578 non-null   float64\n",
      " 1   DIESEL (GHp/Lt)     8578 non-null   float64\n",
      " 2   LPG (GHp/Kg)        8578 non-null   float64\n",
      " 3   KEROSENE (GHp/Lt)   8578 non-null   float64\n",
      " 4   MGO LOCAL (GHp/Lt)  8578 non-null   float64\n",
      "dtypes: float64(5)\n",
      "memory usage: 402.1 KB\n"
     ]
    }
   ],
   "source": [
    "df.info()"
   ]
  },
  {
   "cell_type": "code",
   "execution_count": 55,
   "id": "63a54d20",
   "metadata": {},
   "outputs": [
    {
     "data": {
      "text/plain": [
       "<Axes: >"
      ]
     },
     "execution_count": 55,
     "metadata": {},
     "output_type": "execute_result"
    },
    {
     "data": {
      "image/png": "[encoded data removed]",
      "text/plain": [
       "<Figure size 1500x800 with 1 Axes>"
      ]
     },
     "metadata": {},
     "output_type": "display_data"
    }
   ],
   "source": [
    "sns.set(rc = {'figure.figsize':(15,8)})\n",
    "sns.heatmap(df.isnull(),yticklabels=False,cbar=False,cmap='viridis')"
   ]
  },
  {
   "cell_type": "code",
   "execution_count": 56,
   "id": "05e6f609",
   "metadata": {},
   "outputs": [
    {
     "data": {
      "text/plain": [
       "0.0"
      ]
     },
     "execution_count": 56,
     "metadata": {},
     "output_type": "execute_result"
    }
   ],
   "source": [
    "df['LPG (GHp/Kg)'][1]"
   ]
  },
  {
   "cell_type": "code",
   "execution_count": 31,
   "id": "9b6f8f5a",
   "metadata": {},
   "outputs": [],
   "source": [
    "######################"
   ]
  },
  {
   "cell_type": "code",
   "execution_count": 57,
   "id": "df60150a",
   "metadata": {},
   "outputs": [
    {
     "data": {
      "text/html": [
       "<div>\n",
       "<style scoped>\n",
       "    .dataframe tbody tr th:only-of-type {\n",
       "        vertical-align: middle;\n",
       "    }\n",
       "\n",
       "    .dataframe tbody tr th {\n",
       "        vertical-align: top;\n",
       "    }\n",
       "\n",
       "    .dataframe thead th {\n",
       "        text-align: right;\n",
       "    }\n",
       "</style>\n",
       "<table border=\"1\" class=\"dataframe\">\n",
       "  <thead>\n",
       "    <tr style=\"text-align: right;\">\n",
       "      <th></th>\n",
       "      <th>PETROL (GHp/Lt)</th>\n",
       "      <th>DIESEL (GHp/Lt)</th>\n",
       "      <th>LPG (GHp/Kg)</th>\n",
       "      <th>KEROSENE (GHp/Lt)</th>\n",
       "      <th>MGO LOCAL (GHp/Lt)</th>\n",
       "    </tr>\n",
       "  </thead>\n",
       "  <tbody>\n",
       "    <tr>\n",
       "      <th>8579</th>\n",
       "      <td>1327.1</td>\n",
       "      <td>1333.1</td>\n",
       "      <td>0.00</td>\n",
       "      <td>1325.1</td>\n",
       "      <td>0.0</td>\n",
       "    </tr>\n",
       "    <tr>\n",
       "      <th>8580</th>\n",
       "      <td>1251.1</td>\n",
       "      <td>1249.1</td>\n",
       "      <td>0.00</td>\n",
       "      <td>0.0</td>\n",
       "      <td>0.0</td>\n",
       "    </tr>\n",
       "    <tr>\n",
       "      <th>8581</th>\n",
       "      <td>0.0</td>\n",
       "      <td>0.0</td>\n",
       "      <td>918.00</td>\n",
       "      <td>0.0</td>\n",
       "      <td>0.0</td>\n",
       "    </tr>\n",
       "    <tr>\n",
       "      <th>8582</th>\n",
       "      <td>0.0</td>\n",
       "      <td>0.0</td>\n",
       "      <td>960.65</td>\n",
       "      <td>0.0</td>\n",
       "      <td>0.0</td>\n",
       "    </tr>\n",
       "    <tr>\n",
       "      <th>8583</th>\n",
       "      <td>1263.4</td>\n",
       "      <td>1261.4</td>\n",
       "      <td>960.65</td>\n",
       "      <td>1325.1</td>\n",
       "      <td>1011.2</td>\n",
       "    </tr>\n",
       "  </tbody>\n",
       "</table>\n",
       "</div>"
      ],
      "text/plain": [
       "      PETROL (GHp/Lt)  DIESEL (GHp/Lt)  LPG (GHp/Kg)  KEROSENE (GHp/Lt)  \\\n",
       "8579           1327.1           1333.1          0.00             1325.1   \n",
       "8580           1251.1           1249.1          0.00                0.0   \n",
       "8581              0.0              0.0        918.00                0.0   \n",
       "8582              0.0              0.0        960.65                0.0   \n",
       "8583           1263.4           1261.4        960.65             1325.1   \n",
       "\n",
       "      MGO LOCAL (GHp/Lt)  \n",
       "8579                 0.0  \n",
       "8580                 0.0  \n",
       "8581                 0.0  \n",
       "8582                 0.0  \n",
       "8583              1011.2  "
      ]
     },
     "execution_count": 57,
     "metadata": {},
     "output_type": "execute_result"
    }
   ],
   "source": [
    "df.tail()"
   ]
  },
  {
   "cell_type": "code",
   "execution_count": null,
   "id": "598ce759",
   "metadata": {},
   "outputs": [],
   "source": []
  },
  {
   "cell_type": "code",
   "execution_count": null,
   "id": "000106d5",
   "metadata": {},
   "outputs": [],
   "source": []
  },
  {
   "cell_type": "code",
   "execution_count": 58,
   "id": "f4758922",
   "metadata": {},
   "outputs": [],
   "source": [
    "df2 = df.replace(0, np.nan)"
   ]
  },
  {
   "cell_type": "code",
   "execution_count": 62,
   "id": "f9126572",
   "metadata": {},
   "outputs": [
    {
     "data": {
      "text/html": [
       "<div>\n",
       "<style scoped>\n",
       "    .dataframe tbody tr th:only-of-type {\n",
       "        vertical-align: middle;\n",
       "    }\n",
       "\n",
       "    .dataframe tbody tr th {\n",
       "        vertical-align: top;\n",
       "    }\n",
       "\n",
       "    .dataframe thead th {\n",
       "        text-align: right;\n",
       "    }\n",
       "</style>\n",
       "<table border=\"1\" class=\"dataframe\">\n",
       "  <thead>\n",
       "    <tr style=\"text-align: right;\">\n",
       "      <th></th>\n",
       "      <th>PETROL (GHp/Lt)</th>\n",
       "      <th>DIESEL (GHp/Lt)</th>\n",
       "      <th>LPG (GHp/Kg)</th>\n",
       "      <th>KEROSENE (GHp/Lt)</th>\n",
       "      <th>MGO LOCAL (GHp/Lt)</th>\n",
       "    </tr>\n",
       "  </thead>\n",
       "  <tbody>\n",
       "    <tr>\n",
       "      <th>0</th>\n",
       "      <td>453.30</td>\n",
       "      <td>497.50</td>\n",
       "      <td>470.03</td>\n",
       "      <td>401.96</td>\n",
       "      <td>403.75</td>\n",
       "    </tr>\n",
       "    <tr>\n",
       "      <th>1</th>\n",
       "      <td>481.86</td>\n",
       "      <td>492.21</td>\n",
       "      <td>NaN</td>\n",
       "      <td>NaN</td>\n",
       "      <td>NaN</td>\n",
       "    </tr>\n",
       "    <tr>\n",
       "      <th>2</th>\n",
       "      <td>NaN</td>\n",
       "      <td>NaN</td>\n",
       "      <td>490.44</td>\n",
       "      <td>NaN</td>\n",
       "      <td>NaN</td>\n",
       "    </tr>\n",
       "    <tr>\n",
       "      <th>3</th>\n",
       "      <td>NaN</td>\n",
       "      <td>NaN</td>\n",
       "      <td>503.04</td>\n",
       "      <td>NaN</td>\n",
       "      <td>NaN</td>\n",
       "    </tr>\n",
       "    <tr>\n",
       "      <th>4</th>\n",
       "      <td>NaN</td>\n",
       "      <td>NaN</td>\n",
       "      <td>513.88</td>\n",
       "      <td>NaN</td>\n",
       "      <td>NaN</td>\n",
       "    </tr>\n",
       "  </tbody>\n",
       "</table>\n",
       "</div>"
      ],
      "text/plain": [
       "   PETROL (GHp/Lt)  DIESEL (GHp/Lt)  LPG (GHp/Kg)  KEROSENE (GHp/Lt)  \\\n",
       "0           453.30           497.50        470.03             401.96   \n",
       "1           481.86           492.21           NaN                NaN   \n",
       "2              NaN              NaN        490.44                NaN   \n",
       "3              NaN              NaN        503.04                NaN   \n",
       "4              NaN              NaN        513.88                NaN   \n",
       "\n",
       "   MGO LOCAL (GHp/Lt)  \n",
       "0              403.75  \n",
       "1                 NaN  \n",
       "2                 NaN  \n",
       "3                 NaN  \n",
       "4                 NaN  "
      ]
     },
     "execution_count": 62,
     "metadata": {},
     "output_type": "execute_result"
    }
   ],
   "source": [
    "df2.head()"
   ]
  },
  {
   "cell_type": "code",
   "execution_count": 64,
   "id": "c44e6024",
   "metadata": {},
   "outputs": [],
   "source": [
    "df2 = df2.fillna(method='ffill')"
   ]
  },
  {
   "cell_type": "code",
   "execution_count": 65,
   "id": "8fbf5a9b",
   "metadata": {
    "scrolled": true
   },
   "outputs": [
    {
     "name": "stdout",
     "output_type": "stream",
     "text": [
      "<class 'pandas.core.frame.DataFrame'>\n",
      "Int64Index: 8578 entries, 0 to 8583\n",
      "Data columns (total 5 columns):\n",
      " #   Column              Non-Null Count  Dtype  \n",
      "---  ------              --------------  -----  \n",
      " 0   PETROL (GHp/Lt)     8578 non-null   float64\n",
      " 1   DIESEL (GHp/Lt)     8578 non-null   float64\n",
      " 2   LPG (GHp/Kg)        8578 non-null   float64\n",
      " 3   KEROSENE (GHp/Lt)   8578 non-null   float64\n",
      " 4   MGO LOCAL (GHp/Lt)  8578 non-null   float64\n",
      "dtypes: float64(5)\n",
      "memory usage: 660.1 KB\n"
     ]
    }
   ],
   "source": [
    "df2.info()"
   ]
  },
  {
   "cell_type": "code",
   "execution_count": 66,
   "id": "a5145d40",
   "metadata": {},
   "outputs": [
    {
     "data": {
      "text/plain": [
       "PETROL (GHp/Lt)       0\n",
       "DIESEL (GHp/Lt)       0\n",
       "LPG (GHp/Kg)          0\n",
       "KEROSENE (GHp/Lt)     0\n",
       "MGO LOCAL (GHp/Lt)    0\n",
       "dtype: int64"
      ]
     },
     "execution_count": 66,
     "metadata": {},
     "output_type": "execute_result"
    }
   ],
   "source": [
    "df2.isnull().sum()"
   ]
  },
  {
   "cell_type": "code",
   "execution_count": 67,
   "id": "4b8986cf",
   "metadata": {},
   "outputs": [
    {
     "data": {
      "text/plain": [
       "<Axes: >"
      ]
     },
     "execution_count": 67,
     "metadata": {},
     "output_type": "execute_result"
    },
    {
     "data": {
      "image/png": "[encoded data removed]",
      "text/plain": [
       "<Figure size 1500x800 with 1 Axes>"
      ]
     },
     "metadata": {},
     "output_type": "display_data"
    }
   ],
   "source": [
    "sns.set(rc = {'figure.figsize':(15,8)})\n",
    "sns.heatmap(df2.isnull(),yticklabels=False,cbar=False,cmap='viridis')"
   ]
  },
  {
   "cell_type": "code",
   "execution_count": 68,
   "id": "f955ead2",
   "metadata": {},
   "outputs": [],
   "source": [
    "df2.to_csv('training_data.csv',index=False)"
   ]
  },
  {
   "cell_type": "code",
   "execution_count": null,
   "id": "1fc99fcc",
   "metadata": {},
   "outputs": [],
   "source": []
  },
  {
   "cell_type": "code",
   "execution_count": null,
   "id": "73bd947b",
   "metadata": {},
   "outputs": [],
   "source": []
  }
 ],
 "metadata": {
  "kernelspec": {
   "display_name": "Python 3 (ipykernel)",
   "language": "python",
   "name": "python3"
  },
  "language_info": {
   "codemirror_mode": {
    "name": "ipython",
    "version": 3
   },
   "file_extension": ".py",
   "mimetype": "text/x-python",
   "name": "python",
   "nbconvert_exporter": "python",
   "pygments_lexer": "ipython3",
   "version": "3.10.9"
  }
 },
 "nbformat": 4,
 "nbformat_minor": 5
}
